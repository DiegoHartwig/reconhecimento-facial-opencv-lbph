{
  "nbformat": 4,
  "nbformat_minor": 0,
  "metadata": {
    "colab": {
      "provenance": []
    },
    "kernelspec": {
      "name": "python3",
      "display_name": "Python 3"
    },
    "language_info": {
      "name": "python"
    }
  },
  "cells": [
    {
      "cell_type": "markdown",
      "source": [
        "## Implementando Reconhecimento Facial com OpenCV e LBPH\n",
        "Diego Hartwig - 2024"
      ],
      "metadata": {
        "id": "-DOkNCWxlhLN"
      }
    },
    {
      "cell_type": "code",
      "execution_count": 13,
      "metadata": {
        "id": "IuALz_LslOcF"
      },
      "outputs": [],
      "source": [
        "# Importação das bibliotecas\n",
        "from PIL import Image\n",
        "import cv2\n",
        "import numpy as np\n",
        "from google.colab.patches import cv2_imshow\n",
        "from google.colab import drive\n",
        "import zipfile\n",
        "import os"
      ]
    },
    {
      "cell_type": "code",
      "source": [
        "# Montando o drive\n",
        "drive.mount('/content/drive')"
      ],
      "metadata": {
        "colab": {
          "base_uri": "https://localhost:8080/"
        },
        "id": "D__XC_1Cqffm",
        "outputId": "27ddf196-ea51-4e3e-90a6-b6ed5002524e"
      },
      "execution_count": 4,
      "outputs": [
        {
          "output_type": "stream",
          "name": "stdout",
          "text": [
            "Drive already mounted at /content/drive; to attempt to forcibly remount, call drive.mount(\"/content/drive\", force_remount=True).\n"
          ]
        }
      ]
    },
    {
      "cell_type": "code",
      "source": [
        "#!rm -rf 'yalefaces'"
      ],
      "metadata": {
        "id": "E-URhXVgxdtP"
      },
      "execution_count": 10,
      "outputs": []
    },
    {
      "cell_type": "code",
      "source": [
        "path = '/content/drive/MyDrive/Projetos_IA/Reconhecimento_Facial_OpenCV/yalefaces.zip'\n",
        "zip_object = zipfile.ZipFile(file=path, mode='r')\n",
        "zip_object.extractall('./')\n",
        "zip_object.close()"
      ],
      "metadata": {
        "id": "QkyUTthWqV7F"
      },
      "execution_count": 11,
      "outputs": []
    },
    {
      "cell_type": "markdown",
      "source": [
        "# Pré-processamento das imagens"
      ],
      "metadata": {
        "id": "FTv8HiHzvu8O"
      }
    },
    {
      "cell_type": "code",
      "source": [
        "print(os.listdir('/content/yalefaces/train'))"
      ],
      "metadata": {
        "colab": {
          "base_uri": "https://localhost:8080/"
        },
        "id": "tYnfZA83vzX6",
        "outputId": "3d6fb0da-4cc8-43fe-b047-b17dbc4ff541"
      },
      "execution_count": 14,
      "outputs": [
        {
          "output_type": "stream",
          "name": "stdout",
          "text": [
            "['subject09.centerlight.gif', 'subject08.sad.gif', 'subject12.centerlight.gif', 'subject15.happy.gif', 'subject09.wink.gif', 'subject09.leftlight.gif', 'subject01.sad.gif', 'subject05.glasses.gif', 'subject11.glasses.gif', 'subject05.centerlight.gif', 'subject14.centerlight.gif', 'subject05.wink.gif', 'subject04.rightlight.gif', 'subject05.leftlight.gif', 'subject07.normal.gif', 'subject12.happy.gif', 'subject01.glasses.gif', 'subject08.surprised.gif', 'subject11.sleepy.gif', 'subject09.happy.gif', 'subject11.wink.gif', 'subject05.happy.gif', 'subject03.surprised.gif', 'subject04.noglasses.gif', 'subject03.noglasses.gif', 'subject14.leftlight.gif', 'subject04.sad.gif', 'subject10.surprised.gif', 'subject14.surprised.gif', 'subject14.normal.gif', 'subject02.wink.gif', 'subject11.centerlight.gif', 'subject07.glasses.gif', 'subject09.noglasses.gif', 'subject10.happy.gif', 'subject09.sleepy.gif', 'subject14.sad.gif', 'subject12.sad.gif', 'subject13.leftlight.gif', 'subject02.rightlight.gif', 'subject14.glasses.gif', 'subject10.leftlight.gif', 'subject06.surprised.gif', 'subject02.sleepy.gif', 'subject15.noglasses.gif', 'subject13.happy.gif', 'subject11.surprised.gif', 'subject11.noglasses.gif', 'subject12.normal.gif', 'subject03.sad.gif', 'subject12.glasses.gif', 'subject04.normal.gif', 'subject14.rightlight.gif', 'subject11.leftlight.gif', 'subject05.rightlight.gif', 'subject07.centerlight.gif', 'subject09.sad.gif', 'subject06.normal.gif', 'subject13.sad.gif', 'subject07.noglasses.gif', 'subject15.normal.gif', 'subject10.glasses.gif', 'subject13.centerlight.gif', 'subject15.glasses.gif', 'subject06.centerlight.gif', 'subject12.noglasses.gif', 'subject03.normal.gif', 'subject12.rightlight.gif', 'subject08.centerlight.gif', 'subject06.glasses.gif', 'subject11.rightlight.gif', 'subject04.sleepy.gif', 'subject06.sad.gif', 'subject02.glasses.gif', 'subject13.glasses.gif', 'subject13.sleepy.gif', 'subject01.sleepy.gif', 'subject13.surprised.gif', 'subject11.happy.gif', 'subject15.sad.gif', 'subject12.wink.gif', 'subject06.noglasses.gif', 'subject01.wink.gif', 'subject15.surprised.gif', 'subject14.sleepy.gif', 'subject15.rightlight.gif', 'subject07.surprised.gif', 'subject05.noglasses.gif', 'subject10.normal.gif', 'subject06.sleepy.gif', 'subject02.normal.gif', 'subject15.leftlight.gif', 'subject02.noglasses.gif', 'subject14.happy.gif', 'subject15.wink.gif', 'subject03.sleepy.gif', 'subject10.wink.gif', 'subject14.noglasses.gif', 'subject08.sleepy.gif', 'subject04.centerlight.gif', 'subject03.happy.gif', 'subject07.rightlight.gif', 'subject09.surprised.gif', 'subject10.sad.gif', 'subject04.happy.gif', 'subject02.surprised.gif', 'subject15.centerlight.gif', 'subject07.wink.gif', 'subject11.sad.gif', 'subject13.rightlight.gif', 'subject12.sleepy.gif', 'subject10.sleepy.gif', 'subject12.surprised.gif', 'subject05.sad.gif', 'subject04.wink.gif', 'subject03.rightlight.gif', 'subject02.happy.gif', 'subject08.wink.gif', 'subject07.sleepy.gif', 'subject05.normal.gif', 'subject08.noglasses.gif', 'subject03.wink.gif', 'subject15.sleepy.gif', 'subject06.rightlight.gif', 'subject10.noglasses.gif', 'subject08.leftlight.gif', 'subject09.glasses.gif', 'subject01.centerlight.gif', 'subject01.surprised.gif', 'subject01.noglasses.gif', 'subject13.normal.gif', 'subject08.happy.gif', 'subject13.wink.gif', 'subject10.centerlight.gif', 'subject08.glasses.gif', 'subject07.sad.gif', 'subject10.rightlight.gif', 'subject09.rightlight.gif', 'subject09.normal.gif', 'subject12.leftlight.gif', 'subject06.wink.gif', 'subject13.noglasses.gif', 'subject14.wink.gif', 'subject02.sad.gif', 'subject01.rightlight.gif', 'subject11.normal.gif', 'subject03.centerlight.gif', 'subject04.glasses.gif', 'subject01.leftlight.gif']\n"
          ]
        }
      ]
    },
    {
      "cell_type": "code",
      "source": [
        "def get_image_data():\n",
        "  paths = [os.path.join('/content/yalefaces/train', f) for f in os.listdir('/content/yalefaces/train')]\n",
        "  print(paths)\n",
        "  faces = []\n",
        "  ids = []\n",
        "\n",
        "  for path in paths:\n",
        "    imagem = Image.open(path).convert('L')\n",
        "    imagem_np = np.array(imagem, 'uint8')\n",
        "    id = int(os.path.split(path)[1].split('.')[0].replace('subject', ''))\n",
        "    #print(id)\n",
        "    ids.append(id)\n",
        "    faces.append(imagem_np)\n",
        "  return np.array(ids), faces\n",
        ""
      ],
      "metadata": {
        "id": "cMJJgJVo8VrG"
      },
      "execution_count": 29,
      "outputs": []
    },
    {
      "cell_type": "code",
      "source": [
        "ids, faces = get_image_data()"
      ],
      "metadata": {
        "colab": {
          "base_uri": "https://localhost:8080/"
        },
        "id": "NzuZUtDx8i8M",
        "outputId": "c3860369-2162-445c-d7f0-b9adf35ba873"
      },
      "execution_count": 31,
      "outputs": [
        {
          "output_type": "stream",
          "name": "stdout",
          "text": [
            "['/content/yalefaces/train/subject09.centerlight.gif', '/content/yalefaces/train/subject08.sad.gif', '/content/yalefaces/train/subject12.centerlight.gif', '/content/yalefaces/train/subject15.happy.gif', '/content/yalefaces/train/subject09.wink.gif', '/content/yalefaces/train/subject09.leftlight.gif', '/content/yalefaces/train/subject01.sad.gif', '/content/yalefaces/train/subject05.glasses.gif', '/content/yalefaces/train/subject11.glasses.gif', '/content/yalefaces/train/subject05.centerlight.gif', '/content/yalefaces/train/subject14.centerlight.gif', '/content/yalefaces/train/subject05.wink.gif', '/content/yalefaces/train/subject04.rightlight.gif', '/content/yalefaces/train/subject05.leftlight.gif', '/content/yalefaces/train/subject07.normal.gif', '/content/yalefaces/train/subject12.happy.gif', '/content/yalefaces/train/subject01.glasses.gif', '/content/yalefaces/train/subject08.surprised.gif', '/content/yalefaces/train/subject11.sleepy.gif', '/content/yalefaces/train/subject09.happy.gif', '/content/yalefaces/train/subject11.wink.gif', '/content/yalefaces/train/subject05.happy.gif', '/content/yalefaces/train/subject03.surprised.gif', '/content/yalefaces/train/subject04.noglasses.gif', '/content/yalefaces/train/subject03.noglasses.gif', '/content/yalefaces/train/subject14.leftlight.gif', '/content/yalefaces/train/subject04.sad.gif', '/content/yalefaces/train/subject10.surprised.gif', '/content/yalefaces/train/subject14.surprised.gif', '/content/yalefaces/train/subject14.normal.gif', '/content/yalefaces/train/subject02.wink.gif', '/content/yalefaces/train/subject11.centerlight.gif', '/content/yalefaces/train/subject07.glasses.gif', '/content/yalefaces/train/subject09.noglasses.gif', '/content/yalefaces/train/subject10.happy.gif', '/content/yalefaces/train/subject09.sleepy.gif', '/content/yalefaces/train/subject14.sad.gif', '/content/yalefaces/train/subject12.sad.gif', '/content/yalefaces/train/subject13.leftlight.gif', '/content/yalefaces/train/subject02.rightlight.gif', '/content/yalefaces/train/subject14.glasses.gif', '/content/yalefaces/train/subject10.leftlight.gif', '/content/yalefaces/train/subject06.surprised.gif', '/content/yalefaces/train/subject02.sleepy.gif', '/content/yalefaces/train/subject15.noglasses.gif', '/content/yalefaces/train/subject13.happy.gif', '/content/yalefaces/train/subject11.surprised.gif', '/content/yalefaces/train/subject11.noglasses.gif', '/content/yalefaces/train/subject12.normal.gif', '/content/yalefaces/train/subject03.sad.gif', '/content/yalefaces/train/subject12.glasses.gif', '/content/yalefaces/train/subject04.normal.gif', '/content/yalefaces/train/subject14.rightlight.gif', '/content/yalefaces/train/subject11.leftlight.gif', '/content/yalefaces/train/subject05.rightlight.gif', '/content/yalefaces/train/subject07.centerlight.gif', '/content/yalefaces/train/subject09.sad.gif', '/content/yalefaces/train/subject06.normal.gif', '/content/yalefaces/train/subject13.sad.gif', '/content/yalefaces/train/subject07.noglasses.gif', '/content/yalefaces/train/subject15.normal.gif', '/content/yalefaces/train/subject10.glasses.gif', '/content/yalefaces/train/subject13.centerlight.gif', '/content/yalefaces/train/subject15.glasses.gif', '/content/yalefaces/train/subject06.centerlight.gif', '/content/yalefaces/train/subject12.noglasses.gif', '/content/yalefaces/train/subject03.normal.gif', '/content/yalefaces/train/subject12.rightlight.gif', '/content/yalefaces/train/subject08.centerlight.gif', '/content/yalefaces/train/subject06.glasses.gif', '/content/yalefaces/train/subject11.rightlight.gif', '/content/yalefaces/train/subject04.sleepy.gif', '/content/yalefaces/train/subject06.sad.gif', '/content/yalefaces/train/subject02.glasses.gif', '/content/yalefaces/train/subject13.glasses.gif', '/content/yalefaces/train/subject13.sleepy.gif', '/content/yalefaces/train/subject01.sleepy.gif', '/content/yalefaces/train/subject13.surprised.gif', '/content/yalefaces/train/subject11.happy.gif', '/content/yalefaces/train/subject15.sad.gif', '/content/yalefaces/train/subject12.wink.gif', '/content/yalefaces/train/subject06.noglasses.gif', '/content/yalefaces/train/subject01.wink.gif', '/content/yalefaces/train/subject15.surprised.gif', '/content/yalefaces/train/subject14.sleepy.gif', '/content/yalefaces/train/subject15.rightlight.gif', '/content/yalefaces/train/subject07.surprised.gif', '/content/yalefaces/train/subject05.noglasses.gif', '/content/yalefaces/train/subject10.normal.gif', '/content/yalefaces/train/subject06.sleepy.gif', '/content/yalefaces/train/subject02.normal.gif', '/content/yalefaces/train/subject15.leftlight.gif', '/content/yalefaces/train/subject02.noglasses.gif', '/content/yalefaces/train/subject14.happy.gif', '/content/yalefaces/train/subject15.wink.gif', '/content/yalefaces/train/subject03.sleepy.gif', '/content/yalefaces/train/subject10.wink.gif', '/content/yalefaces/train/subject14.noglasses.gif', '/content/yalefaces/train/subject08.sleepy.gif', '/content/yalefaces/train/subject04.centerlight.gif', '/content/yalefaces/train/subject03.happy.gif', '/content/yalefaces/train/subject07.rightlight.gif', '/content/yalefaces/train/subject09.surprised.gif', '/content/yalefaces/train/subject10.sad.gif', '/content/yalefaces/train/subject04.happy.gif', '/content/yalefaces/train/subject02.surprised.gif', '/content/yalefaces/train/subject15.centerlight.gif', '/content/yalefaces/train/subject07.wink.gif', '/content/yalefaces/train/subject11.sad.gif', '/content/yalefaces/train/subject13.rightlight.gif', '/content/yalefaces/train/subject12.sleepy.gif', '/content/yalefaces/train/subject10.sleepy.gif', '/content/yalefaces/train/subject12.surprised.gif', '/content/yalefaces/train/subject05.sad.gif', '/content/yalefaces/train/subject04.wink.gif', '/content/yalefaces/train/subject03.rightlight.gif', '/content/yalefaces/train/subject02.happy.gif', '/content/yalefaces/train/subject08.wink.gif', '/content/yalefaces/train/subject07.sleepy.gif', '/content/yalefaces/train/subject05.normal.gif', '/content/yalefaces/train/subject08.noglasses.gif', '/content/yalefaces/train/subject03.wink.gif', '/content/yalefaces/train/subject15.sleepy.gif', '/content/yalefaces/train/subject06.rightlight.gif', '/content/yalefaces/train/subject10.noglasses.gif', '/content/yalefaces/train/subject08.leftlight.gif', '/content/yalefaces/train/subject09.glasses.gif', '/content/yalefaces/train/subject01.centerlight.gif', '/content/yalefaces/train/subject01.surprised.gif', '/content/yalefaces/train/subject01.noglasses.gif', '/content/yalefaces/train/subject13.normal.gif', '/content/yalefaces/train/subject08.happy.gif', '/content/yalefaces/train/subject13.wink.gif', '/content/yalefaces/train/subject10.centerlight.gif', '/content/yalefaces/train/subject08.glasses.gif', '/content/yalefaces/train/subject07.sad.gif', '/content/yalefaces/train/subject10.rightlight.gif', '/content/yalefaces/train/subject09.rightlight.gif', '/content/yalefaces/train/subject09.normal.gif', '/content/yalefaces/train/subject12.leftlight.gif', '/content/yalefaces/train/subject06.wink.gif', '/content/yalefaces/train/subject13.noglasses.gif', '/content/yalefaces/train/subject14.wink.gif', '/content/yalefaces/train/subject02.sad.gif', '/content/yalefaces/train/subject01.rightlight.gif', '/content/yalefaces/train/subject11.normal.gif', '/content/yalefaces/train/subject03.centerlight.gif', '/content/yalefaces/train/subject04.glasses.gif', '/content/yalefaces/train/subject01.leftlight.gif']\n"
          ]
        }
      ]
    },
    {
      "cell_type": "markdown",
      "source": [
        "# Treinamento do classificador LBPH"
      ],
      "metadata": {
        "id": "S5ic1d_G_OzF"
      }
    },
    {
      "cell_type": "code",
      "source": [
        "lbph_classifier = cv2.face.LBPHFaceRecognizer_create(radius=4, neighbors=14, grid_x=9, grid_y=9)\n",
        "lbph_classifier.train(faces, ids)\n",
        "lbph_classifier.write('classificadorLBPH.yml')"
      ],
      "metadata": {
        "id": "hProFBgj_QKe"
      },
      "execution_count": 84,
      "outputs": []
    },
    {
      "cell_type": "markdown",
      "source": [
        "# Reconhecimento de faces"
      ],
      "metadata": {
        "id": "d6y51AexAG-F"
      }
    },
    {
      "cell_type": "code",
      "source": [
        "lbph_face_classifier = cv2.face.LBPHFaceRecognizer_create()\n",
        "lbph_face_classifier.read('classificadorLBPH.yml')"
      ],
      "metadata": {
        "id": "AYaQzgyeAO-E"
      },
      "execution_count": 85,
      "outputs": []
    },
    {
      "cell_type": "code",
      "source": [
        "imagem_teste = '/content/yalefaces/test/subject07.happy.gif'"
      ],
      "metadata": {
        "id": "CXxhvhEoAb1R"
      },
      "execution_count": 86,
      "outputs": []
    },
    {
      "cell_type": "code",
      "source": [
        "imagem = Image.open(imagem_teste).convert('L')\n",
        "imagem_np = np.array(imagem, 'uint8')\n",
        "imagem_np"
      ],
      "metadata": {
        "colab": {
          "base_uri": "https://localhost:8080/",
          "height": 283
        },
        "id": "OfD1_DZ8AnwG",
        "outputId": "82a5d176-1a24-4622-8535-a877286f0dc1"
      },
      "execution_count": 87,
      "outputs": [
        {
          "output_type": "execute_result",
          "data": {
            "text/plain": [
              "array([[130, 130, 130, ..., 255, 255, 255],\n",
              "       [255, 255, 255, ..., 255, 255, 255],\n",
              "       [255, 255, 255, ..., 255, 255, 255],\n",
              "       ...,\n",
              "       [255, 255, 255, ..., 255, 255, 255],\n",
              "       [255, 255, 255, ..., 255, 255, 255],\n",
              "       [ 68,  68,  68, ...,  68,  68,  68]], dtype=uint8)"
            ],
            "text/html": [
              "<style>\n",
              "      .ndarray_repr .ndarray_raw_data {\n",
              "        display: none;\n",
              "      }\n",
              "      .ndarray_repr.show_array .ndarray_raw_data {\n",
              "        display: block;\n",
              "      }\n",
              "      .ndarray_repr.show_array .ndarray_image_preview {\n",
              "        display: none;\n",
              "      }\n",
              "      </style>\n",
              "      <div id=\"id-70a5e6c5-e70e-4911-9e7d-0233c58e8dae\" class=\"ndarray_repr\"><pre>ndarray (243, 320) <button style=\"padding: 0 2px;\">show data</button></pre><img src=\"data:image/png;base64,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\" class=\"ndarray_image_preview\" /><pre class=\"ndarray_raw_data\">array([[130, 130, 130, ..., 255, 255, 255],\n",
              "       [255, 255, 255, ..., 255, 255, 255],\n",
              "       [255, 255, 255, ..., 255, 255, 255],\n",
              "       ...,\n",
              "       [255, 255, 255, ..., 255, 255, 255],\n",
              "       [255, 255, 255, ..., 255, 255, 255],\n",
              "       [ 68,  68,  68, ...,  68,  68,  68]], dtype=uint8)</pre></div><script>\n",
              "      (() => {\n",
              "      const titles = ['show data', 'hide data'];\n",
              "      let index = 0\n",
              "      document.querySelector('#id-70a5e6c5-e70e-4911-9e7d-0233c58e8dae button').onclick = (e) => {\n",
              "        document.querySelector('#id-70a5e6c5-e70e-4911-9e7d-0233c58e8dae').classList.toggle('show_array');\n",
              "        index = (++index) % 2;\n",
              "        document.querySelector('#id-70a5e6c5-e70e-4911-9e7d-0233c58e8dae button').textContent = titles[index];\n",
              "        e.preventDefault();\n",
              "        e.stopPropagation();\n",
              "      }\n",
              "      })();\n",
              "    </script>"
            ]
          },
          "metadata": {},
          "execution_count": 87
        }
      ]
    },
    {
      "cell_type": "code",
      "source": [
        "previsao = lbph_face_classifier.predict(imagem_np)\n",
        "previsao"
      ],
      "metadata": {
        "colab": {
          "base_uri": "https://localhost:8080/"
        },
        "id": "KXZclD8OBERv",
        "outputId": "ec6fb4fa-8e1c-484a-91b9-aab8d465ea1b"
      },
      "execution_count": 88,
      "outputs": [
        {
          "output_type": "execute_result",
          "data": {
            "text/plain": [
              "(7, 53.03735016959249)"
            ]
          },
          "metadata": {},
          "execution_count": 88
        }
      ]
    },
    {
      "cell_type": "code",
      "source": [
        "saida_esperada = int(os.path.split(imagem_teste)[1].split('.')[0].replace('subject', ''))\n",
        "saida_esperada\n"
      ],
      "metadata": {
        "colab": {
          "base_uri": "https://localhost:8080/"
        },
        "id": "4Ov8zDdrBgAn",
        "outputId": "68a518d8-7cc5-44c2-9329-3873b06f9f9d"
      },
      "execution_count": 89,
      "outputs": [
        {
          "output_type": "execute_result",
          "data": {
            "text/plain": [
              "7"
            ]
          },
          "metadata": {},
          "execution_count": 89
        }
      ]
    },
    {
      "cell_type": "code",
      "source": [
        "cv2.putText(imagem_np, 'Pred: ' + str(previsao[0]), (10,30), cv2.FONT_HERSHEY_SIMPLEX, 1, (0,255,0))\n",
        "cv2.putText(imagem_np, 'Exp: ' + str(saida_esperada), (10,50), cv2.FONT_HERSHEY_SIMPLEX, 1, (0,255,0))\n",
        "cv2_imshow(imagem_np)"
      ],
      "metadata": {
        "colab": {
          "base_uri": "https://localhost:8080/",
          "height": 260
        },
        "id": "ycEBmGzbBoC8",
        "outputId": "d9ed8b41-554a-4479-fe19-1edb3ffbcfcf"
      },
      "execution_count": 90,
      "outputs": [
        {
          "output_type": "display_data",
          "data": {
            "text/plain": [
              "<PIL.Image.Image image mode=L size=320x243>"
            ],
            "image/png": "[encoded data removed]"
          },
          "metadata": {}
        }
      ]
    },
    {
      "cell_type": "markdown",
      "source": [
        "# Avaliação do classificador"
      ],
      "metadata": {
        "id": "ZITaMUY2DAM5"
      }
    },
    {
      "cell_type": "code",
      "source": [
        "paths = [os.path.join('/content/yalefaces/test', f) for f in os.listdir('/content/yalefaces/test')]\n",
        "previsoes = []\n",
        "saidas_esperadas = []\n",
        "\n",
        "for path in paths:\n",
        "  imagem = Image.open(path).convert('L')\n",
        "  imagem_np = np.array(imagem, 'uint8')\n",
        "  previsao, _ = lbph_face_classifier.predict(imagem_np)\n",
        "  saida_esperada = int(os.path.split(path)[1].split('.')[0].replace('subject', ''))\n",
        "\n",
        "  previsoes.append(previsao)\n",
        "  saidas_esperadas.append(saida_esperada)\n"
      ],
      "metadata": {
        "id": "F8ENwdcrDCSX"
      },
      "execution_count": 91,
      "outputs": []
    },
    {
      "cell_type": "code",
      "source": [
        "type(previsoes), type(saidas_esperadas)"
      ],
      "metadata": {
        "colab": {
          "base_uri": "https://localhost:8080/"
        },
        "id": "GtvIix-bGbEt",
        "outputId": "a7288280-b06b-4dda-c0d8-9ceac1de96f8"
      },
      "execution_count": 92,
      "outputs": [
        {
          "output_type": "execute_result",
          "data": {
            "text/plain": [
              "(list, list)"
            ]
          },
          "metadata": {},
          "execution_count": 92
        }
      ]
    },
    {
      "cell_type": "code",
      "source": [
        "previsoes = np.array(previsoes)\n",
        "saidas_esperadas = np.array(saidas_esperadas)"
      ],
      "metadata": {
        "id": "kfnzRQd3GfIe"
      },
      "execution_count": 93,
      "outputs": []
    },
    {
      "cell_type": "code",
      "source": [
        "type(previsoes), type(saidas_esperadas)"
      ],
      "metadata": {
        "colab": {
          "base_uri": "https://localhost:8080/"
        },
        "id": "3G507vevGk2O",
        "outputId": "09ac8023-cb26-43ce-ad9d-1c6d345e1828"
      },
      "execution_count": 94,
      "outputs": [
        {
          "output_type": "execute_result",
          "data": {
            "text/plain": [
              "(numpy.ndarray, numpy.ndarray)"
            ]
          },
          "metadata": {},
          "execution_count": 94
        }
      ]
    },
    {
      "cell_type": "code",
      "source": [
        "previsoes"
      ],
      "metadata": {
        "colab": {
          "base_uri": "https://localhost:8080/"
        },
        "id": "AiqMkKwoGpdG",
        "outputId": "c1c00a20-14cb-4c13-a9d6-27eb938d12cb"
      },
      "execution_count": 95,
      "outputs": [
        {
          "output_type": "execute_result",
          "data": {
            "text/plain": [
              "array([ 3,  4,  9,  5,  4,  4,  1,  3,  5,  1,  4, 12,  6, 14,  7,  8])"
            ]
          },
          "metadata": {},
          "execution_count": 95
        }
      ]
    },
    {
      "cell_type": "code",
      "source": [
        "saidas_esperadas"
      ],
      "metadata": {
        "colab": {
          "base_uri": "https://localhost:8080/"
        },
        "id": "d6nQq_9AGr7B",
        "outputId": "56c91352-db61-48c6-85e7-ec055f3542fe"
      },
      "execution_count": 96,
      "outputs": [
        {
          "output_type": "execute_result",
          "data": {
            "text/plain": [
              "array([3, 2, 7, 5, 4, 4, 1, 3, 5, 1, 8, 2, 6, 6, 7, 8])"
            ]
          },
          "metadata": {},
          "execution_count": 96
        }
      ]
    },
    {
      "cell_type": "code",
      "source": [
        "from sklearn.metrics import accuracy_score\n",
        "accuracy_score (saidas_esperadas, previsoes)"
      ],
      "metadata": {
        "colab": {
          "base_uri": "https://localhost:8080/"
        },
        "id": "0grPR8GqGtMX",
        "outputId": "cb68b0c3-c7be-4292-e452-bf659ecbdb03"
      },
      "execution_count": 97,
      "outputs": [
        {
          "output_type": "execute_result",
          "data": {
            "text/plain": [
              "0.6875"
            ]
          },
          "metadata": {},
          "execution_count": 97
        }
      ]
    },
    {
      "cell_type": "code",
      "source": [
        "from sklearn.metrics import confusion_matrix\n",
        "cm = confusion_matrix(saidas_esperadas, previsoes)\n",
        "cm"
      ],
      "metadata": {
        "colab": {
          "base_uri": "https://localhost:8080/"
        },
        "id": "9g6OxYJaHxzD",
        "outputId": "2e9b29f7-4609-43cc-d7ff-1a9bd7e75de6"
      },
      "execution_count": 99,
      "outputs": [
        {
          "output_type": "execute_result",
          "data": {
            "text/plain": [
              "array([[2, 0, 0, 0, 0, 0, 0, 0, 0, 0, 0],\n",
              "       [0, 0, 0, 1, 0, 0, 0, 0, 0, 1, 0],\n",
              "       [0, 0, 2, 0, 0, 0, 0, 0, 0, 0, 0],\n",
              "       [0, 0, 0, 2, 0, 0, 0, 0, 0, 0, 0],\n",
              "       [0, 0, 0, 0, 2, 0, 0, 0, 0, 0, 0],\n",
              "       [0, 0, 0, 0, 0, 1, 0, 0, 0, 0, 1],\n",
              "       [0, 0, 0, 0, 0, 0, 1, 0, 1, 0, 0],\n",
              "       [0, 0, 0, 1, 0, 0, 0, 1, 0, 0, 0],\n",
              "       [0, 0, 0, 0, 0, 0, 0, 0, 0, 0, 0],\n",
              "       [0, 0, 0, 0, 0, 0, 0, 0, 0, 0, 0],\n",
              "       [0, 0, 0, 0, 0, 0, 0, 0, 0, 0, 0]])"
            ]
          },
          "metadata": {},
          "execution_count": 99
        }
      ]
    },
    {
      "cell_type": "code",
      "source": [
        "import seaborn\n",
        "seaborn.heatmap(cm, annot=True)"
      ],
      "metadata": {
        "colab": {
          "base_uri": "https://localhost:8080/",
          "height": 452
        },
        "id": "SgDc_VpkH_5E",
        "outputId": "72ac80ec-f633-4135-a27c-70c4c5f65056"
      },
      "execution_count": 103,
      "outputs": [
        {
          "output_type": "execute_result",
          "data": {
            "text/plain": [
              "<Axes: >"
            ]
          },
          "metadata": {},
          "execution_count": 103
        },
        {
          "output_type": "display_data",
          "data": {
            "text/plain": [
              "<Figure size 640x480 with 2 Axes>"
            ],
            "image/png": "[encoded data removed]"
          },
          "metadata": {}
        }
      ]
    }
  ]
}